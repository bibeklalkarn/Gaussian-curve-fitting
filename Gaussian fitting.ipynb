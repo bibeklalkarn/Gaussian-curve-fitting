{
 "cells": [
  {
   "cell_type": "code",
   "execution_count": null,
   "id": "241dbc04-2867-4115-bcb8-e2bbeffc074a",
   "metadata": {},
   "outputs": [],
   "source": [
    "import numpy as np\n",
    "import matplotlib.pyplot as plt\n",
    "from scipy import stats\n",
    "from scipy.optimize import curve_fit\n",
    "from scipy import asarray as ar,exp"
   ]
  },
  {
   "cell_type": "code",
   "execution_count": null,
   "id": "95af18f3-82ce-47b4-a7bd-75ca808708bb",
   "metadata": {},
   "outputs": [],
   "source": [
    "data = [] #defining empty array for data entry, if you have your own data load it here\n",
    "count = 1"
   ]
  },
  {
   "cell_type": "code",
   "execution_count": null,
   "id": "e5a15686-3cc6-47ea-8102-7226c9a3bb02",
   "metadata": {},
   "outputs": [],
   "source": [
    "while True: #entering data, if you loaded your data then skip this cell\n",
    "    d = input(\"Enter student \"+ str(count) +\" weight: \")\n",
    "    if d == \"n\" or d == \"N\": #stop entering data by entering 'n' in the entry\n",
    "        break\n",
    "    if d == \"-\" or d == \"c\" or d == \"C\": #clear last entered data by pressing 'c'\n",
    "        data.remove(data[count-2])\n",
    "        count -=1\n",
    "        d = input(\"Enter student \"+ str(count) +\" weight: \")\n",
    "    data.append(float(d))\n",
    "    count += 1 \n",
    "    #you can run this again to add data"
   ]
  },
  {
   "cell_type": "code",
   "execution_count": null,
   "id": "4477f770-84a2-45de-9201-339787258dbc",
   "metadata": {},
   "outputs": [],
   "source": [
    "# data = np.random.normal(55,30,1000) #uncomment this if you dont want to enter data but see how the code works with random data\n",
    "bin_size = 20  #put 'auto' if you dont want to put a specific value\n",
    "hist, bin_edges = np.histogram(data, bins = bin_size) #returns frequency of bins and start-end values of bins"
   ]
  },
  {
   "cell_type": "code",
   "execution_count": null,
   "id": "0eaa6929-3da1-437a-905c-4145553b4749",
   "metadata": {},
   "outputs": [],
   "source": [
    "xaxis = np.zeros(len(hist),dtype=float)\n",
    "for i in range(len(hist)):\n",
    "    xaxis[i]=(bin_edges[i+1]+bin_edges[i])/2 #define x as midpoint of bins\n",
    "\n",
    "yaxis=hist #define y as frequency of bins"
   ]
  },
  {
   "cell_type": "code",
   "execution_count": null,
   "id": "d350fdea-77f0-4dd3-9cf9-d1e359b4360d",
   "metadata": {},
   "outputs": [],
   "source": [
    "A = np.max(yaxis) #define amplitude of gaussian curve\n",
    "M = np.average(xaxis, weights = yaxis) #define mean of gaussian curve\n",
    "S = (np.sum(yaxis*(xaxis-M)**2)/np.sum(yaxis))**0.5 #define standard deviation of gaussian curve\n",
    "\n",
    "def gaussian(x, A,M,S): #defining gaussian model for curve fitting\n",
    "    return A*2.718281828**(-0.5*(((x-M)/S)**2))\n",
    "\n",
    "parameters, covariance = curve_fit(gaussian, xaxis, yaxis, p0=[A, M, S], maxfev = 5000) #curve fitting"
   ]
  },
  {
   "cell_type": "code",
   "execution_count": null,
   "id": "b4e14126-7b22-49f6-95f3-eff49549be90",
   "metadata": {},
   "outputs": [],
   "source": [
    "#Plotting\n",
    "x_curve = np.linspace(np.min(xaxis)-5,np.max(xaxis)+5,100) #define x for smooth curve\n",
    "y_curve = gaussian(x_curve, *parameters) #define y for smoother curve\n",
    "plt.hist(data, bins=bin_size) \n",
    "plt.axvline(parameters[1] + parameters[2], color = '#FFA500') #plotting standard deviation\n",
    "plt.axvline(parameters[1] - parameters[2], color = '#FFA500')\n",
    "plt.axvline(parameters[1], color = '#00FF00') #plotting mean\n",
    "plt.plot(x_curve, y_curve, 'r-', label='fit') #smoother gaussian curve with optimal parameters\n",
    "plt.xlabel('X Data')\n",
    "plt.ylabel('Y Data')\n",
    "plt.legend()"
   ]
  }
 ],
 "metadata": {
  "kernelspec": {
   "display_name": "math_camp",
   "language": "python",
   "name": "math_camp"
  },
  "language_info": {
   "codemirror_mode": {
    "name": "ipython",
    "version": 3
   },
   "file_extension": ".py",
   "mimetype": "text/x-python",
   "name": "python",
   "nbconvert_exporter": "python",
   "pygments_lexer": "ipython3",
   "version": "3.9.12"
  }
 },
 "nbformat": 4,
 "nbformat_minor": 5
}
