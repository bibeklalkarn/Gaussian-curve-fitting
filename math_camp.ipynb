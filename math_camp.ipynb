{
 "cells": [
  {
   "cell_type": "code",
   "execution_count": 1,
   "id": "241dbc04-2867-4115-bcb8-e2bbeffc074a",
   "metadata": {},
   "outputs": [],
   "source": [
    "import numpy as np\n",
    "import matplotlib.pyplot as plt\n",
    "from scipy import stats\n",
    "from scipy.optimize import curve_fit\n",
    "from scipy import asarray as ar,exp"
   ]
  },
  {
   "cell_type": "code",
   "execution_count": 2,
   "id": "95af18f3-82ce-47b4-a7bd-75ca808708bb",
   "metadata": {},
   "outputs": [],
   "source": [
    "data = [] #defining empty array for data entry, if you have your own data load it here\n",
    "count = 1"
   ]
  },
  {
   "cell_type": "code",
   "execution_count": 3,
   "id": "e5a15686-3cc6-47ea-8102-7226c9a3bb02",
   "metadata": {},
   "outputs": [
    {
     "name": "stdin",
     "output_type": "stream",
     "text": [
      "Enter student 1 weight:  52\n",
      "Enter student 2 weight:  45\n",
      "Enter student 3 weight:  47\n",
      "Enter student 4 weight:  58\n",
      "Enter student 5 weight:  59\n",
      "Enter student 6 weight:  51\n",
      "Enter student 7 weight:  52\n",
      "Enter student 8 weight:  53\n",
      "Enter student 9 weight:  56\n",
      "Enter student 10 weight:  74\n",
      "Enter student 11 weight:  84\n",
      "Enter student 12 weight:  32\n",
      "Enter student 13 weight:  45\n",
      "Enter student 14 weight:  47\n",
      "Enter student 15 weight:  58\n",
      "Enter student 16 weight:  47\n",
      "Enter student 17 weight:  49\n",
      "Enter student 18 weight:  58\n",
      "Enter student 19 weight:  51\n",
      "Enter student 20 weight:  52\n",
      "Enter student 21 weight:  59\n",
      "Enter student 22 weight:  53\n",
      "Enter student 23 weight:  58\n",
      "Enter student 24 weight:  57\n",
      "Enter student 25 weight:  51\n",
      "Enter student 26 weight:  52\n",
      "Enter student 27 weight:  56\n",
      "Enter student 28 weight:  57\n",
      "Enter student 29 weight:  58\n",
      "Enter student 30 weight:  52\n",
      "Enter student 31 weight:  53\n",
      "Enter student 32 weight:  58\n",
      "Enter student 33 weight:  c\n",
      "Enter student 32 weight:  48\n",
      "Enter student 33 weight:  95\n",
      "Enter student 34 weight:  92\n",
      "Enter student 35 weight:  94\n",
      "Enter student 36 weight:  96\n",
      "Enter student 37 weight:  45\n",
      "Enter student 38 weight:  14\n",
      "Enter student 39 weight:  10\n",
      "Enter student 40 weight:  12\n",
      "Enter student 41 weight:  19\n",
      "Enter student 42 weight:  15\n",
      "Enter student 43 weight:  25\n",
      "Enter student 44 weight:  n\n"
     ]
    }
   ],
   "source": [
    "while True: #entering data, if you loaded your data then skip this cell\n",
    "    d = input(\"Enter student \"+ str(count) +\" weight: \")\n",
    "    if d == \"n\" or d == \"N\": #stop entering data by entering 'n' in the entry\n",
    "        break\n",
    "    if d == \"-\" or d == \"c\" or d == \"C\": #clear last entered data by pressing 'c'\n",
    "        data.remove(data[count-2])\n",
    "        count -=1\n",
    "        d = input(\"Enter student \"+ str(count) +\" weight: \")\n",
    "    data.append(float(d))\n",
    "    count += 1 \n",
    "    #you can run this again to add data"
   ]
  },
  {
   "cell_type": "code",
   "execution_count": 6,
   "id": "93f32420-6a42-4a8e-9cd1-87bb7e14e0f7",
   "metadata": {},
   "outputs": [
    {
     "data": {
      "text/plain": [
       "(8,\n",
       " 52.111111111111114,\n",
       " 20.079250391792428,\n",
       " array([ 4.20604216, 52.61682749,  5.80560333]),\n",
       " array([[ 5.68669921e-01,  7.27541417e-08, -5.23396635e-01],\n",
       "        [ 7.27541417e-08,  1.44518305e+00, -9.64319701e-08],\n",
       "        [-5.23396635e-01, -9.64319701e-08,  1.44518305e+00]]))"
      ]
     },
     "execution_count": 6,
     "metadata": {},
     "output_type": "execute_result"
    },
    {
     "data": {
      "image/png": "[encoded data removed]",
      "text/plain": [
       "<Figure size 640x480 with 1 Axes>"
      ]
     },
     "metadata": {},
     "output_type": "display_data"
    }
   ],
   "source": [
    "# data = np.random.normal(55,30,1000) #uncomment this if you dont want to enter data but see how the code works with random data\n",
    "bin_size = 20\n",
    "hist, bin_edges = np.histogram(data, bins = bin_size)\n",
    "xaxis = np.zeros(len(hist),dtype=float)\n",
    "\n",
    "for i in range(len(hist)):\n",
    "    xaxis[i]=(bin_edges[i+1]+bin_edges[i])/2\n",
    "    \n",
    "yaxis=hist\n",
    "\n",
    "A = np.max(yaxis)\n",
    "M = np.average(xaxis, weights = yaxis)\n",
    "S = (np.sum(yaxis*(xaxis-M)**2)/np.sum(yaxis))**0.5\n",
    "def gaussian(x, A,M,S):\n",
    "    return A*2.718281828**(-0.5*(((x-M)/S)**2))\n",
    "\n",
    "parameters, covariance = curve_fit(gaussian, xaxis, yaxis, p0=[A, M, S], maxfev = 5000)\n",
    "\n",
    "\n",
    "x_curve = np.linspace(np.min(xaxis)-5,np.max(xaxis)+5,100)\n",
    "y_curve = gaussian(x_curve, *parameters)\n",
    "# plt.plot(xaxis, yaxis, 'o', label='data')\n",
    "plt.hist(data, bins=bin_size)\n",
    "plt.axvline(parameters[1] + parameters[2], color = '#FFA500')\n",
    "plt.axvline(parameters[1] - parameters[2], color = '#FFA500')\n",
    "plt.axvline(parameters[1], color = '#00FF00')\n",
    "plt.plot(x_curve, y_curve, 'r-', label='fit')\n",
    "\n",
    "plt.legend()\n",
    "A, M, S, parameters, covariance"
   ]
  }
 ],
 "metadata": {
  "kernelspec": {
   "display_name": "math_camp",
   "language": "python",
   "name": "math_camp"
  },
  "language_info": {
   "codemirror_mode": {
    "name": "ipython",
    "version": 3
   },
   "file_extension": ".py",
   "mimetype": "text/x-python",
   "name": "python",
   "nbconvert_exporter": "python",
   "pygments_lexer": "ipython3",
   "version": "3.9.12"
  }
 },
 "nbformat": 4,
 "nbformat_minor": 5
}
