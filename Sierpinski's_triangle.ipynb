{
  "nbformat": 4,
  "nbformat_minor": 0,
  "metadata": {
    "colab": {
      "provenance": []
    },
    "kernelspec": {
      "name": "python3",
      "display_name": "Python 3"
    },
    "language_info": {
      "name": "python"
    }
  },
  "cells": [
    {
      "cell_type": "code",
      "source": [
        "!pip install SciencePlots"
      ],
      "metadata": {
        "id": "zWCGHah7RfSI"
      },
      "execution_count": null,
      "outputs": []
    },
    {
      "cell_type": "code",
      "execution_count": null,
      "metadata": {
        "id": "j42VohHZM8r0"
      },
      "outputs": [],
      "source": [
        "import numpy as np\n",
        "import matplotlib.pyplot as plt\n",
        "import plotly.express as px\n",
        "import scienceplots\n",
        "from matplotlib import animation\n",
        "from matplotlib.animation import PillowWriter\n",
        "plt.style.reload_library()\n",
        "plt.style.use(['science', 'notebook', 'grid'])"
      ]
    },
    {
      "cell_type": "code",
      "source": [
        "Ax = 0\n",
        "Ay = 0\n",
        "Bx = 1\n",
        "By = 0\n",
        "Cx = np.sqrt(3)/2\n",
        "Cy = np.sqrt(3)/2\n",
        "X = (0,1,0.5)\n",
        "Y = (0,0,np.sqrt(3)/2)"
      ],
      "metadata": {
        "id": "c9zCZH7hNYZP"
      },
      "execution_count": null,
      "outputs": []
    },
    {
      "cell_type": "code",
      "source": [
        "N = 10000\n",
        "plotX, plotY = [], []\n",
        "first = [np.random.random(), np.random.random()]\n",
        "\n",
        "# fig = plt.figure()\n",
        "# ax = fig.add_subplot(111)\n",
        "\n",
        "for i in range(N):\n",
        "  roll = np.random.random()\n",
        "  if roll < 1/3:\n",
        "    plotX.append((first[0]+X[0])/2)\n",
        "    plotY.append((first[1]+Y[0])/2)\n",
        "    first[0] = (first[0]+X[0])/2\n",
        "    first[1] = (first[1]+Y[0])/2\n",
        "  elif roll < 2/3:\n",
        "    plotX.append((first[0]+X[1])/2)\n",
        "    plotY.append((first[1]+Y[1])/2)\n",
        "    first[0] = (first[0]+X[1])/2\n",
        "    first[1] = (first[1]+Y[1])/2\n",
        "  else:\n",
        "    plotX.append((first[0]+X[2])/2)\n",
        "    plotY.append((first[1]+Y[2])/2)\n",
        "    first[0] = (first[0]+X[2])/2\n",
        "    first[1] = (first[1]+Y[2])/2\n",
        "  "
      ],
      "metadata": {
        "id": "OR6iKmz7PICq"
      },
      "execution_count": null,
      "outputs": []
    },
    {
      "cell_type": "code",
      "source": [
        "fig, ax = plt.subplots(1,1, figsize=(15,15))\n",
        "ln1, = plt.plot([], [], 'b.', markersize =6)\n",
        "time_text = ax.text(0.65, 0.95, '', fontsize=15,\n",
        "                    bbox=dict(facecolor='white', edgecolor='black'), \n",
        "                    transform=ax.transAxes)\n",
        "ax.set_xlim(0, 1)\n",
        "ax.set_ylim(0,1)\n",
        "time = 20\n",
        "framerate = 30\n",
        "frames = framerate * time\n",
        "def animate(i):\n",
        "    plt.plot(X,Y, 'rX', markersize = 12)\n",
        "    ln1.set_data(plotX[:int(np.floor((len(plotX)-1)/frames*i))], plotY[:int(np.floor((len(plotX)-1)/frames*i))])\n",
        "    time_text.set_text('t={:.2f}'.format(i/framerate))\n",
        "    \n",
        "ani = animation.FuncAnimation(fig, animate, frames=frames, interval=50)\n",
        "# ani.save('ani4.gif',writer='pillow',fps=framerate,dpi=20)\n",
        "writervideo = animation.FFMpegWriter(fps=30)\n",
        "ani.save('ani.mp4', writer=writervideo)"
      ],
      "metadata": {
        "id": "sF-QPgqgOU20"
      },
      "execution_count": null,
      "outputs": []
    },
    {
      "cell_type": "code",
      "source": [],
      "metadata": {
        "id": "hwIo1iomTEV8"
      },
      "execution_count": null,
      "outputs": []
    }
  ]
}